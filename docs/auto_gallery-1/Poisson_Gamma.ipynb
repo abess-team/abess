{
  "cells": [
    {
      "cell_type": "code",
      "execution_count": null,
      "metadata": {
        "collapsed": false
      },
      "outputs": [],
      "source": [
        "%matplotlib inline"
      ]
    },
    {
      "cell_type": "markdown",
      "metadata": {},
      "source": [
        "\n# Positive response: Poisson and Gamma regression\n"
      ]
    },
    {
      "cell_type": "markdown",
      "metadata": {},
      "source": [
        "## Poisson Regression\nPoisson Regression involves regression models in which the response variable is in the form of counts. For example, the count of number of car accidents or number of costumers in line at a reception desk. The expectation of the response variables is assumed to follow a Poisson distribution.\n\nThe general mathematical equation for Poisson regression is\n\n..math::\n  \\log(E(y)) = \\beta_0 + \\beta_1 X_1+\\beta_2 X_2+\\dots+\\beta_p X_p.\n\n\n### Simulated Data Example\n\nWe generate some artificial data using this logic.\nConsider a dataset containing `n=100` observations with `p=6` variables. The `make_glm_data()` function allow you to generate simulated data. By specifying `k = 3`, here we set only 3 of the 6 variables have effect on the expectation of the response. \n\n\n"
      ]
    },
    {
      "cell_type": "code",
      "execution_count": null,
      "metadata": {
        "collapsed": false
      },
      "outputs": [],
      "source": [
        "import numpy as np\nfrom abess.datasets import make_glm_data\nnp.random.seed(0)\n\nn = 100\np = 6\nk = 3\ndata = make_glm_data(n = n, p = p , k = k, family=\"poisson\")\nprint(\"non-zero:\\n\", np.nonzero(data.coef_))\nprint(\"real coef:\\n\", data.coef_)\n\n\n\nprint(\"the first 5 x:\\n\", data.x[0:5,])\nprint(\"the first 5 y:\\n\",data.y[0:5])"
      ]
    },
    {
      "cell_type": "markdown",
      "metadata": {},
      "source": [
        "Model Fitting\n^^^^^^^^^^^^^^^^^^^^^^^ \nThe `PoissonRegression()` function in the **abess** package allows you to perform best subset selection in a highly efficient way. You can call the function using formula like: \n\n"
      ]
    },
    {
      "cell_type": "code",
      "execution_count": null,
      "metadata": {
        "collapsed": false
      },
      "outputs": [],
      "source": [
        "from abess.linear import PoissonRegression\n\nmodel = PoissonRegression(support_size = range(7))\nmodel.fit(data.x, data.y)"
      ]
    },
    {
      "cell_type": "markdown",
      "metadata": {},
      "source": [
        "where `support_size` contains the level of sparsity we consider, and the program can adaptively choose the \"best\" one. The result of coefficients can be viewed on `model.coef_`:\n\n"
      ]
    },
    {
      "cell_type": "code",
      "execution_count": null,
      "metadata": {
        "collapsed": false
      },
      "outputs": [],
      "source": [
        "print(model.coef_)"
      ]
    },
    {
      "cell_type": "markdown",
      "metadata": {},
      "source": [
        "So that the first, third and last variables are thought to be useful in the model (the chosen sparsity is 3), which is the same as \"real\" variables. What's more, the predicted coefficients are also close to the real ones.\n\nMore on the Results\n^^^^^^^^^^^^^^^^^^^^^^^ \nActually, we can also plot the path of coefficients in abess process. This can be computed by fitting the `support_size` in one number from 0 to 6:\n\n"
      ]
    },
    {
      "cell_type": "code",
      "execution_count": null,
      "metadata": {
        "collapsed": false
      },
      "outputs": [],
      "source": [
        "import matplotlib.pyplot as plt\n\ncoef = np.zeros((7, 6))\nic = np.zeros(7)\nfor s in range(7):\n    model = PoissonRegression(support_size = s)\n    model.fit(data.x, data.y)\n    coef[s, :] = model.coef_\n    ic[s] = model.ic_\n\nfor i in range(6):\n    plt.plot(coef[:, i], label = i)\n\nplt.xlabel('support_size')\nplt.ylabel('coefficients')\nplt.legend()\nplt.show()"
      ]
    },
    {
      "cell_type": "markdown",
      "metadata": {},
      "source": [
        "And the decreasing of information criterion (by default, we use EBIC):\n\n"
      ]
    },
    {
      "cell_type": "code",
      "execution_count": null,
      "metadata": {
        "collapsed": false
      },
      "outputs": [],
      "source": [
        "plt.plot(ic, 'o-')\nplt.xlabel('support_size')\nplt.ylabel('EBIC')\nplt.show()"
      ]
    },
    {
      "cell_type": "markdown",
      "metadata": {},
      "source": [
        "The lowest point is shown on `support_size=3` and that's why the program choose 3 variables as output.\n\n## Gamma Regression\nGamma regression can be used when you have positive continuous response variables such as payments for insurance claims, or the lifetime of a redundant system. It is well known that the density of Gamma distribution can be represented as a function of a mean parameter ($\\mu$) and a shape parameter ($\\alpha$), specifically,\n\n..math::\n  f(y \\mid \\mu, \\alpha)=\\frac{1}{y \\Gamma(\\alpha)}\\left(\\frac{\\alpha y}{\\mu}\\right)^{\\alpha} e^{-\\alpha y / \\mu} {I}_{(0, \\infty)}(y),\n\n\nwhere$I(\\cdot)$ denotes the indicator function. In the Gamma regression model, response variables are assumed to follow Gamma distributions. Specifically, \n\n..math::\n  y_i \\sim Gamma(\\mu_i, \\alpha),\n\n\nwhere$1/\\mu_i = x_i^T\\beta$.\n\nCompared with Poisson regression, this time we consider the response variables as (continuous) levels of satisfaction.\n\n"
      ]
    },
    {
      "cell_type": "code",
      "execution_count": null,
      "metadata": {
        "collapsed": false
      },
      "outputs": [],
      "source": [
        "# Simulated Data Example\n# ^^^^^^^^^^^^^^^^^^^^^^^^^^^^ \n# Firstly, we also generate data from `make_glm_data()`, but `family = \"gamma\"` is given this time:\n\nimport numpy as np\nfrom abess.datasets import make_glm_data\nnp.random.seed(1)\n\nn = 100\np = 6\nk = 3\ndata = make_glm_data(n = n, p = p , k = k, family = \"gamma\")\nprint(\"non-zero:\\n\", np.nonzero(data.coef_))\nprint(\"real coef:\\n\", data.coef_)\n\n\nprint(\"the first 5 x:\\n\", data.x[0:5,])\nprint(\"the first 5 y:\\n\", data.y[0:5])"
      ]
    },
    {
      "cell_type": "markdown",
      "metadata": {},
      "source": [
        "Model Fitting\n^^^^^^^^^^^^^^^^^^^^^^^^^^^^ \nWe apply the above procedure for gamma regression simply by using `abess.linear.GammaRegression`. It has similar member functions for fitting.\n\n"
      ]
    },
    {
      "cell_type": "code",
      "execution_count": null,
      "metadata": {
        "collapsed": false
      },
      "outputs": [],
      "source": [
        "from abess.linear import GammaRegression\n\nmodel = GammaRegression(support_size = range(7), cv = 5) # use CV (fold = 5) for fitting\nmodel.fit(data.x, data.y)"
      ]
    },
    {
      "cell_type": "markdown",
      "metadata": {},
      "source": [
        "The fitted coefficients:\n\n"
      ]
    },
    {
      "cell_type": "code",
      "execution_count": null,
      "metadata": {
        "collapsed": false
      },
      "outputs": [],
      "source": [
        "print(model.coef_)"
      ]
    },
    {
      "cell_type": "markdown",
      "metadata": {},
      "source": [
        "More on the Results\n^^^^^^^^^^^^^^^^^^^^^^^^^^^^ \nWe can also plot the path of coefficients in abess process.\n\n"
      ]
    },
    {
      "cell_type": "code",
      "execution_count": null,
      "metadata": {
        "collapsed": false
      },
      "outputs": [],
      "source": [
        "import matplotlib.pyplot as plt\n\ncoef = np.zeros((7, 6))\nloss = np.zeros(7)\nfor s in range(7):\n    model = GammaRegression(support_size = s)\n    model.fit(data.x, data.y)\n    coef[s, :] = model.coef_\n    loss[s] = model.test_loss_\n\nfor i in range(6):\n    plt.plot(coef[:, i], label = i)\n\nplt.xlabel('support_size')\nplt.ylabel('coefficients')\nplt.legend()\nplt.show()"
      ]
    },
    {
      "cell_type": "markdown",
      "metadata": {},
      "source": [
        "R tutorial\n-------------------- \nFor R tutorial, please view [https://abess-team.github.io/abess/articles/v04-PoissonGammaReg.html](https://abess-team.github.io/abess/articles/v04-PoissonGammaReg.html).\n\n"
      ]
    }
  ],
  "metadata": {
    "kernelspec": {
      "display_name": "Python 3",
      "language": "python",
      "name": "python3"
    },
    "language_info": {
      "codemirror_mode": {
        "name": "ipython",
        "version": 3
      },
      "file_extension": ".py",
      "mimetype": "text/x-python",
      "name": "python",
      "nbconvert_exporter": "python",
      "pygments_lexer": "ipython3",
      "version": "3.7.4"
    }
  },
  "nbformat": 4,
  "nbformat_minor": 0
}