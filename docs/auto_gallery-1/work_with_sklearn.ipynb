{
  "cells": [
    {
      "cell_type": "code",
      "execution_count": null,
      "metadata": {
        "collapsed": false
      },
      "outputs": [],
      "source": [
        "%matplotlib inline"
      ]
    },
    {
      "cell_type": "markdown",
      "metadata": {},
      "source": [
        "\n# Work with scikit-learn\nOur code can work with the famous package `sklearn` easily, and here is an example.\n"
      ]
    },
    {
      "cell_type": "code",
      "execution_count": null,
      "metadata": {
        "collapsed": false
      },
      "outputs": [],
      "source": [
        "from abess.linear import LogisticRegression\nfrom sklearn.datasets import load_breast_cancer\nfrom sklearn.pipeline import Pipeline\nfrom sklearn.metrics import roc_auc_score, make_scorer, roc_curve\nfrom sklearn.preprocessing import PolynomialFeatures\nfrom sklearn.model_selection import GridSearchCV\nimport matplotlib.pyplot as plt"
      ]
    },
    {
      "cell_type": "markdown",
      "metadata": {},
      "source": [
        "## Establish the process\nSuppose we would like to extend the original variables to their interactions, and then do `LogisticRegression` on them. This can be record with `Pipeline`:\n\n"
      ]
    },
    {
      "cell_type": "code",
      "execution_count": null,
      "metadata": {
        "collapsed": false
      },
      "outputs": [],
      "source": [
        "pipe = Pipeline([\n    ('poly', PolynomialFeatures(include_bias=False)),   # without intercept\n    ('alogistic', LogisticRegression())\n])"
      ]
    },
    {
      "cell_type": "markdown",
      "metadata": {},
      "source": [
        "## Parameter grid\nWe can give different parameters to model and let the program choose the best. Here we should give parameters for `PolynomialFeatures`, for example:\n\n"
      ]
    },
    {
      "cell_type": "code",
      "execution_count": null,
      "metadata": {
        "collapsed": false
      },
      "outputs": [],
      "source": [
        "param_grid = {\n    'poly__interaction_only': [True, False],    # whether the \"self-combination\" (e.g. X^2, X^3) exists\n    'poly__degree': [1, 2, 3]                   # the degree of polynomial\n}"
      ]
    },
    {
      "cell_type": "markdown",
      "metadata": {},
      "source": [
        "Note that the program would try ALL combinations of what we give, which means that there are $2\\times3=6$ combinations of parameters will be tried.\n\n## Criterion\nAfter giving a grid of parameters, we should define what is a \"better\" result. For example, the AUR (area under ROC curve) can be a criterion and the larger, the better.\n\n"
      ]
    },
    {
      "cell_type": "code",
      "execution_count": null,
      "metadata": {
        "collapsed": false
      },
      "outputs": [],
      "source": [
        "scorer = make_scorer(roc_auc_score, greater_is_better = True)"
      ]
    },
    {
      "cell_type": "markdown",
      "metadata": {},
      "source": [
        "## Cross Validation\nFor more accurate results, cross validation is often formed. In this example, we use 5-fold CV for parameters searching: \n\n"
      ]
    },
    {
      "cell_type": "code",
      "execution_count": null,
      "metadata": {
        "collapsed": false
      },
      "outputs": [],
      "source": [
        "grid_search = GridSearchCV(pipe, param_grid, scoring = scorer, cv = 5)"
      ]
    },
    {
      "cell_type": "markdown",
      "metadata": {},
      "source": [
        "## Model fitting\nEveything is prepared now. We can simply load the data and put it into `grid_search`: \n\n"
      ]
    },
    {
      "cell_type": "code",
      "execution_count": null,
      "metadata": {
        "collapsed": false
      },
      "outputs": [],
      "source": [
        "X, y = load_breast_cancer(return_X_y = True)\ngrid_search.fit(X, y)\nprint([grid_search.best_score_, grid_search.best_params_])"
      ]
    },
    {
      "cell_type": "markdown",
      "metadata": {},
      "source": [
        "The best choice of parameter combination is shown above: 2 degree with \"self-combination\". Here is its ROC curve:\n\n"
      ]
    },
    {
      "cell_type": "code",
      "execution_count": null,
      "metadata": {
        "collapsed": false
      },
      "outputs": [],
      "source": [
        "proba = grid_search.predict_proba(X)\nfpr, tpr, _ = roc_curve(y, proba)\nplt.plot(fpr, tpr)\nplt.plot([0, 1], [0, 1], 'k--')\nplt.show()"
      ]
    }
  ],
  "metadata": {
    "kernelspec": {
      "display_name": "Python 3",
      "language": "python",
      "name": "python3"
    },
    "language_info": {
      "codemirror_mode": {
        "name": "ipython",
        "version": 3
      },
      "file_extension": ".py",
      "mimetype": "text/x-python",
      "name": "python",
      "nbconvert_exporter": "python",
      "pygments_lexer": "ipython3",
      "version": "3.7.4"
    }
  },
  "nbformat": 4,
  "nbformat_minor": 0
}