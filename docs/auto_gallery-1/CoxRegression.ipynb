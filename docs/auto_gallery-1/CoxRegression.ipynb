{
  "cells": [
    {
      "cell_type": "code",
      "execution_count": null,
      "metadata": {
        "collapsed": false
      },
      "outputs": [],
      "source": [
        "%matplotlib inline"
      ]
    },
    {
      "cell_type": "markdown",
      "metadata": {},
      "source": [
        "\n# Cox Regression\n"
      ]
    },
    {
      "cell_type": "markdown",
      "metadata": {},
      "source": [
        "## Cox Proportional Hazrds Regression\nCox Proportional Hazrds (CoxPH) regression is to describe the survival according to several corvariates. The difference between CoxPH regression and Kaplan-Meier curves or the logrank tests is that the latter only focus on modeling the survival according to one factor (categorical predictor is best) while the former is able to take into consideration any covariates simultaneouly, regardless of whether they're quantitatrive or categorical. The model is as follow:\n\n\\begin{align}h(t) = h_0(t)\\exp(\\eta).\\end{align}\n\n\nwhere,\n\n- $\\eta = x\\beta.$\n- $t$ is the survival time.\n- $h(t)$ is the hazard function which evaluate the risk of dying at time $t$.\n- $h_0(t)$ is called the baseline hazard. It describes value of the hazard if all the predictors are zero.\n- $beta$ measures the impact of covariates.\n\n\nConsider two case $i$ and $i'$ that have different x values. Their hazard function can be simply written as follow\n\n\\begin{align}h_i(t) = h_0(t)\\exp(\\eta_i) = h_0(t)\\exp(x_i\\beta),\\end{align}\n\n\nand\n\n\\begin{align}h_{i'}(t) = h_0(t)\\exp(\\eta_{i'}) = h_0(t)\\exp(x_{i'}\\beta).\\end{align}\n\n\nThe hazard ratio for these two cases is\n\n\\begin{align}\\frac{h_i(t)}{h_{i'}(t)} & = \\frac{h_0(t)\\exp(\\eta_i)}{h_0(t)\\exp(\\eta_{i'})} \\\\\n                           & = \\frac{\\exp(\\eta_i)}{\\exp(\\eta_{i'})},\\end{align}\n\n\n\nwhich is independent of time.\n\n### Real Data Example (Lung Cancer Dataset)\nWe are going to apply best subset selection to the NCCTG Lung Cancer Dataset from [https://www.kaggle.com/ukveteran/ncctg-lung-cancer-data](https://www.kaggle.com/ukveteran/ncctg-lung-cancer-data). \nThis dataset consists of survival informatoin of patients with advanced lung cancer from the North Central Cancer Treatment Group. The proportional hazards model allows the analysis of survival data by regression modeling. Linearity is assumed on the log scale of the hazard. The hazard ratio in Cox proportional hazard model is assumed constant. \n\nFirst, we load the data.\n\n"
      ]
    },
    {
      "cell_type": "code",
      "execution_count": null,
      "metadata": {
        "collapsed": false
      },
      "outputs": [],
      "source": [
        "import pandas as pd \n\ndata = pd.read_csv('./cancer.csv')\ndata = data.drop(data.columns[[0, 1]], axis = 1)\nprint(data.head())"
      ]
    },
    {
      "cell_type": "markdown",
      "metadata": {},
      "source": [
        "Then we remove the rows containing any missing data. After that, we have a total of 168 observations.\n\n"
      ]
    },
    {
      "cell_type": "code",
      "execution_count": null,
      "metadata": {
        "collapsed": false
      },
      "outputs": [],
      "source": [
        "data = data.dropna()\nprint(data.shape)"
      ]
    },
    {
      "cell_type": "markdown",
      "metadata": {},
      "source": [
        "Then we change the factors `ph.ecog` into dummy variables:\n\n"
      ]
    },
    {
      "cell_type": "code",
      "execution_count": null,
      "metadata": {
        "collapsed": false
      },
      "outputs": [],
      "source": [
        "data['ph.ecog'] = data['ph.ecog'].astype(\"category\")\ndata = pd.get_dummies(data)\ndata = data.drop('ph.ecog_0.0', axis = 1)\nprint(data.head())"
      ]
    },
    {
      "cell_type": "markdown",
      "metadata": {},
      "source": [
        "We split the dataset into a training set and a test set. The model is going to be built on the training set and later we will test the model performance on the test set.\n\n"
      ]
    },
    {
      "cell_type": "code",
      "execution_count": null,
      "metadata": {
        "collapsed": false
      },
      "outputs": [],
      "source": [
        "import numpy as np\nnp.random.seed(0)\n\nind = np.linspace(1, 168, 168) <= round(168*2/3)\ntrain = np.array(data[ind])\ntest = np.array(data[~ind])\n\nprint('train size: ', train.shape[0])\nprint('test size:', test.shape[0])"
      ]
    },
    {
      "cell_type": "markdown",
      "metadata": {},
      "source": [
        "#### Model Fitting\nThe `CoxPHSurvivalAnalysis()` function in the `abess` package allows you to perform best subset selection in a highly efficient way. \n\nBy default, the function implements the abess algorithm with the support size (sparsity level) changing from 0 to $\\min\\{p,n/log(n)p \\}$ and the best support size is determined by EBIC. You can change the tunging criterion by specifying the argument `ic_type` and the support size by `support_size`. The available tuning criterion now are gic, aic, bic, ebic. Here we give an example.\n\n"
      ]
    },
    {
      "cell_type": "code",
      "execution_count": null,
      "metadata": {
        "collapsed": false
      },
      "outputs": [],
      "source": [
        "from abess import CoxPHSurvivalAnalysis\nmodel = CoxPHSurvivalAnalysis(ic_type = 'gic')\nmodel.fit(train[:, 2:], train[:, :2])"
      ]
    },
    {
      "cell_type": "markdown",
      "metadata": {},
      "source": [
        "After fitting, the coefficients are stored in `model.coef_`, and the non-zero values indicate the variables used in our model.\n\n"
      ]
    },
    {
      "cell_type": "code",
      "execution_count": null,
      "metadata": {
        "collapsed": false
      },
      "outputs": [],
      "source": [
        "print(model.coef_)"
      ]
    },
    {
      "cell_type": "markdown",
      "metadata": {},
      "source": [
        "This result shows that 4 variables (the 2nd, 3rd, 7th, 8th, 9th) are chosen into the Cox model. Then a further analysis can be based on them. \n\n"
      ]
    },
    {
      "cell_type": "markdown",
      "metadata": {},
      "source": [
        "#### More on the results\nHold on, we aren\u2019t finished yet. After get the estimator, we can further do more exploring work. For example, you can use some generic steps to quickly draw some information of those estimators.\n\nSimply fix the `support_size` in different level, you can plot a path of coefficients like: \n\n"
      ]
    },
    {
      "cell_type": "code",
      "execution_count": null,
      "metadata": {
        "collapsed": false
      },
      "outputs": [],
      "source": [
        "import matplotlib.pyplot as plt\n\ncoef = np.zeros((10, 9))\nic = np.zeros(10)\nfor s in range(10):\n    model = CoxPHSurvivalAnalysis(support_size = s, ic_type = 'gic')\n    model.fit(train[:, 2:], train[:, :2])\n    coef[s, :] = model.coef_\n    ic[s] = model.ic_\n\nfor i in range(9):\n    plt.plot(coef[:, i], label = i)\n\nplt.xlabel('support_size')\nplt.ylabel('coefficients')\nplt.legend()\nplt.show()"
      ]
    },
    {
      "cell_type": "markdown",
      "metadata": {},
      "source": [
        "Or a view of decreasing of information criterion:\n\n"
      ]
    },
    {
      "cell_type": "code",
      "execution_count": null,
      "metadata": {
        "collapsed": false
      },
      "outputs": [],
      "source": [
        "plt.plot(ic, 'o-')\nplt.xlabel('support_size')\nplt.ylabel('GIC')\nplt.show()"
      ]
    },
    {
      "cell_type": "markdown",
      "metadata": {},
      "source": [
        "Prediction is allowed for all the estimated model. Just call `predict()` function under the model you are interested in. The values it return are $\\exp(\\eta)=\\exp(x\\beta)$, which is part of Cox PH hazard function.\n\nHere he give the prediction on the `test` data.\n\n"
      ]
    },
    {
      "cell_type": "code",
      "execution_count": null,
      "metadata": {
        "collapsed": false
      },
      "outputs": [],
      "source": [
        "pred = model.predict(test[:, 2:])\nprint(pred)"
      ]
    },
    {
      "cell_type": "markdown",
      "metadata": {},
      "source": [
        "With these predictions, we can compute the hazard ratio between every two observations (by deviding their values). Or, we can also compute the C-Index for our model, i.e., the probability that, for a pair of randomly chosen comparable samples, the sample with the higher risk prediction will experience an event before the other sample or belong to a higher binary class. \n\n"
      ]
    },
    {
      "cell_type": "code",
      "execution_count": null,
      "metadata": {
        "collapsed": false
      },
      "outputs": [],
      "source": [
        "from sksurv.metrics import concordance_index_censored\ncindex = concordance_index_censored(test[:, 1] == 2, test[:, 0], pred)\nprint(cindex[0])"
      ]
    },
    {
      "cell_type": "markdown",
      "metadata": {},
      "source": [
        "On this dataset, the C-index is about 0.68.\n\n"
      ]
    },
    {
      "cell_type": "markdown",
      "metadata": {},
      "source": [
        "## R tutorial\nFor R tutorial, please view [https://abess-team.github.io/abess/articles/v05-coxreg.html](https://abess-team.github.io/abess/articles/v05-coxreg.html).\n\n"
      ]
    }
  ],
  "metadata": {
    "kernelspec": {
      "display_name": "Python 3",
      "language": "python",
      "name": "python3"
    },
    "language_info": {
      "codemirror_mode": {
        "name": "ipython",
        "version": 3
      },
      "file_extension": ".py",
      "mimetype": "text/x-python",
      "name": "python",
      "nbconvert_exporter": "python",
      "pygments_lexer": "ipython3",
      "version": "3.7.4"
    }
  },
  "nbformat": 4,
  "nbformat_minor": 0
}