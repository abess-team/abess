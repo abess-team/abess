{
 "metadata": {
  "language_info": {
   "codemirror_mode": {
    "name": "ipython",
    "version": 3
   },
   "file_extension": ".py",
   "mimetype": "text/x-python",
   "name": "python",
   "nbconvert_exporter": "python",
   "pygments_lexer": "ipython3",
   "version": "3.8.5"
  },
  "orig_nbformat": 2,
  "kernelspec": {
   "name": "python3",
   "display_name": "Python 3.8.5 64-bit"
  },
  "metadata": {
   "interpreter": {
    "hash": "916dbcbb3f70747c44a77c7bcd40155683ae19c65e1c03b4aa3499c5328201f1"
   }
  },
  "interpreter": {
   "hash": "916dbcbb3f70747c44a77c7bcd40155683ae19c65e1c03b4aa3499c5328201f1"
  }
 },
 "nbformat": 4,
 "nbformat_minor": 2,
 "cells": [
  {
   "source": [
    "# abessPCA\n",
    "This notebook introduces what is sparse principal component analysis (SPCA) and use a real data example to show how to use our frame to form it. \n",
    "\n",
    "## Introduction\n",
    "Principal component analysis (PCA) is an important method in the field of data science, which can reduce the dimension of data and simplify our model. It actually solve an optimization problem like:\n",
    "$$\n",
    "    \\max_{v} v^T\\Sigma v,\\qquad s.t.\\quad v^Tv=1.\n",
    "$$\n",
    "where $\\Sigma = X^TX / (n-1)$ and $X$ is the **centered** sample matrix.\n",
    "\n",
    "Then, before further analysis, we can project $X$ to $v$ (thus dimensional reduction), without losing too much information.\n",
    "\n",
    "However, there are some obvious drawbacks on PCA: \n",
    "- The PC is a linear combination of all primary variables (Xv) and generally the loading $v$ is not sparse, so it is often hard to interpret our PC; \n",
    "- When analysing a new observation, we still have to collect data on all primary variables. That is, PCA does not help to reduce dimension on data collection. \n",
    "\n",
    "> For example, there maybe some irrelevant variables in our primary variables and PCA would take all of them in consideration. It is hard to find which variables are \"actually useful\" from the loading $v$, and to interpret the meaning of this PC.\n",
    "\n",
    "As a result, it is important to not only reduce dimension of data, but try to **drop** useless variables (set the corresponding position in $v$ to 0). That is why Sparse-PCA (SPCA) comes.\n",
    "\n",
    "Sparse-PCA (SPCA) also seeks for principal component, but with a sparsity limitation:\n",
    "$$\n",
    "    \\max_{v} v^T\\Sigma v,\\qquad s.t.\\quad v^Tv=1,\\ ||v||_0\\leq s.\n",
    "$$\n",
    "where $s$ is a non-negative integer, which indicates how many primary variables are used in principal component. \n",
    "With this sparse loading $v$, we can find the most important $s$ (or less) variables used in PCA and drop those unused ones.\n",
    "> Clearly, if $s$ is equal or larger than the number of primary variables, this sparsity limitation is actually useless and the problem is equivalent to a simple PCA.\n",
    "\n",
    "> With less variables, the PC must have lower explained variance. However, this decrease is slight if we choose a good $s$ and at this price, we can interpret the PC much better. It is worthy. \n",
    "\n",
    "Furthermore, some variables may need to consider together, that is, they should be \"useful\" or \"useless\" for PC at the same time, which we call \"group information\". The optimization problem becomes:\n",
    "$$\n",
    "    \\max_{v} v^T\\Sigma v,\\qquad s.t.\\quad v^Tv=1,\\ \\sum_{g=1}^G I(||v_g||\\neq 0)\\leq s.\n",
    "$$\n",
    "where we suppose there are $G$ groups, and the $g$-th one correspond to $v_g$, $v = [v_1^T,v_2^T,\\cdots,v_G^T]^T$. Then we are interested to find $s$ (or less) important groups.\n",
    "> Group problem is extraordinary important in real data analysis. For example, in gene sequence, several sites would be related to one charcter, and it is meaningless to consider each of them alone. \n",
    "\n",
    "In the next section, we will show how to form SPCA (as well as group-SPCA) in our frame."
   ],
   "cell_type": "markdown",
   "metadata": {}
  },
  {
   "source": [
    "## abessPCA\n",
    "Here we will show how to use our frame (abess) to form SPCA. The data we use is from [UCI:\n",
    "Communities and Crime Data Set](https://archive.ics.uci.edu/ml/datasets/Communities+and+Crime) and we pick up its 100 predictive variables as our samples.\n",
    "\n",
    "- Initiation:\n",
    "\n",
    "Firstly, we center the data and record its sample size $n$ as well as number of variables $p$."
   ],
   "cell_type": "markdown",
   "metadata": {}
  },
  {
   "cell_type": "code",
   "execution_count": 31,
   "metadata": {},
   "outputs": [
    {
     "output_type": "stream",
     "name": "stdout",
     "text": [
      "1994\n99\n"
     ]
    }
   ],
   "source": [
    "import numpy as np\n",
    "from abess.linear import abessPCA\n",
    "\n",
    "X = np.genfromtxt('communities.data', delimiter = ',') \n",
    "X = X[:, 5:127]                         # numeric predictiors\n",
    "X = X[:, ~np.isnan(X).any(axis = 0)]    # drop variables with nan\n",
    "\n",
    "X = X - X.mean(axis = 0)                # centered data\n",
    "n, p = X.shape\n",
    "\n",
    "print(n)\n",
    "print(p)\n"
   ]
  },
  {
   "source": [
    "- Model building:\n",
    "\n",
    "To build a SPCA model, we need to give some parameters, such as the target sparisty. Our program can automatically find a best sparisty in a given range `range(s_begin, s_end + 1)`. We can also set `s_begin=s_end` for one fixed sparsity."
   ],
   "cell_type": "markdown",
   "metadata": {}
  },
  {
   "cell_type": "code",
   "execution_count": 32,
   "metadata": {},
   "outputs": [],
   "source": [
    "s_begin = 0         # min target sparsity\n",
    "s_end = 20          # max targer sparsity\n",
    "\n",
    "model = abessPCA(\n",
    "    support_size = range(s_begin, s_end + 1)\n",
    ")"
   ]
  },
  {
   "source": [
    "- Fitting:\n",
    "\n",
    "For fitting the model, we can give either $X$ or $Sigma = X^TX$. `is_normal = False` means that the program will not normalize $X$. Note that if both $X$ and $Sigma$ are given, the program prefer to use $X$."
   ],
   "cell_type": "markdown",
   "metadata": {}
  },
  {
   "cell_type": "code",
   "execution_count": 33,
   "metadata": {},
   "outputs": [
    {
     "output_type": "execute_result",
     "data": {
      "text/plain": [
       "abessPCA(support_size=range(0, 21))"
      ]
     },
     "metadata": {},
     "execution_count": 33
    }
   ],
   "source": [
    "model.fit(X, is_normal = False)  \n",
    "# or give Sigma:\n",
    "# model.fit(Sigma = X.T.dot(X))"
   ]
  },
  {
   "source": [
    "- Result:\n",
    "\n",
    "After fitting, `model.coef_` returns the sparse principal component and its non-zero positions correspond to variables used. "
   ],
   "cell_type": "markdown",
   "metadata": {}
  },
  {
   "cell_type": "code",
   "execution_count": 34,
   "metadata": {},
   "outputs": [
    {
     "output_type": "stream",
     "name": "stdout",
     "text": [
      "[ 0.          0.          0.          0.          0.          0.\n  0.          0.          0.          0.          0.         -0.27618663\n -0.23703262  0.          0.          0.          0.          0.18384733\n  0.         -0.2275236  -0.21204903 -0.19753942  0.          0.\n  0.          0.          0.          0.21358573  0.          0.18270928\n -0.18928695  0.          0.          0.          0.          0.1760962\n -0.17481418  0.          0.          0.          0.          0.\n  0.          0.         -0.18581084  0.          0.          0.\n  0.          0.          0.          0.          0.          0.\n  0.          0.          0.          0.          0.          0.\n  0.          0.          0.          0.          0.          0.\n  0.          0.          0.          0.          0.          0.\n  0.          0.          0.          0.          0.23804122  0.\n -0.2415995  -0.24785373 -0.24947283 -0.23938391 -0.23605314 -0.28015859\n -0.23841083  0.          0.          0.          0.          0.\n  0.          0.          0.          0.          0.          0.\n  0.          0.          0.        ]\nnon-zero position: \n [11 12 17 19 20 21 27 29 30 35 36 44 76 78 79 80 81 82 83 84]\nchosen sparsity:  20\n"
     ]
    }
   ],
   "source": [
    "print(model.coef_)\n",
    "\n",
    "temp = np.nonzero(model.coef_)[0]\n",
    "print('non-zero position: \\n', temp)\n",
    "print('chosen sparsity: ', temp.size)"
   ]
  },
  {
   "source": [
    "- Explained variance:"
   ],
   "cell_type": "markdown",
   "metadata": {}
  },
  {
   "cell_type": "code",
   "execution_count": 35,
   "metadata": {},
   "outputs": [
    {
     "output_type": "stream",
     "name": "stdout",
     "text": [
      "explained ratio:  0.1692080282085568\n"
     ]
    }
   ],
   "source": [
    "Xv = X.dot(model.coef_)\n",
    "explained = Xv.T.dot(Xv)            # explained variance (information)\n",
    "total = sum(np.diag(X.T.dot(X)))    # total variance (information)\n",
    "print( 'explained ratio: ', explained / total )"
   ]
  },
  {
   "source": [
    "- Analysis:\n",
    "\n",
    "We can give different target sparsity (change `s_begin` and `s_end`) to get different sparse loading. It is clear that the higher sparsity is, the more variance it can explain. However, sometimes we seek for a smaller sparsity which can explain most of the variance.\n",
    "\n",
    "In this example, if we try sparsities from $0$ to $p$, and calculate the ratio of explained variance:"
   ],
   "cell_type": "markdown",
   "metadata": {}
  },
  {
   "cell_type": "code",
   "execution_count": 36,
   "metadata": {},
   "outputs": [
    {
     "output_type": "stream",
     "name": "stdout",
     "text": [
      "80%+ :  [34 37 40 44 47 51 54 58 61 64 68 71 75 78 81 85 88 92 95 99]\n90%+ :  [44 47 51 54 58 61 64 68 71 75 78 81 85 88 92 95 99]\n"
     ]
    }
   ],
   "source": [
    "num = 30\n",
    "px = np.linspace(0, p, num, dtype='int')\n",
    "py = np.zeros(num)\n",
    "for i in range(num):\n",
    "    model = abessPCA(\n",
    "        support_size = range(px[i], px[i] + 1),\n",
    "        exchange_num = int(px[i]),  \n",
    "        max_iter=50\n",
    "    )\n",
    "    model.fit(X, is_normal = False)\n",
    "    Xv = X.dot(model.coef_)\n",
    "    py[i] = Xv.T.dot(Xv)\n",
    "\n",
    "print('80%+ : ', px[py > 0.8 * py[num-1]])\n",
    "print('90%+ : ', px[py > 0.9 * py[num-1]])"
   ]
  },
  {
   "source": [
    "If we denote the explained ratio from all 99 variables as 100%, the curve indicates that at least 34 variables can reach 80% (blue dashed line) and 44 variables can reach 90% (red dashed line)."
   ],
   "cell_type": "markdown",
   "metadata": {}
  },
  {
   "cell_type": "code",
   "execution_count": 37,
   "metadata": {},
   "outputs": [
    {
     "output_type": "display_data",
     "data": {
      "text/plain": "<Figure size 432x288 with 1 Axes>",
      "image/svg+xml": "<?xml version=\"1.0\" encoding=\"utf-8\" standalone=\"no\"?>\n<!DOCTYPE svg PUBLIC \"-//W3C//DTD SVG 1.1//EN\"\n  \"http://www.w3.org/Graphics/SVG/1.1/DTD/svg11.dtd\">\n<svg height=\"262.19625pt\" version=\"1.1\" viewBox=\"0 0 395.328125 262.19625\" width=\"395.328125pt\" xmlns=\"http://www.w3.org/2000/svg\" xmlns:xlink=\"http://www.w3.org/1999/xlink\">\n <metadata>\n  <rdf:RDF xmlns:cc=\"http://creativecommons.org/ns#\" xmlns:dc=\"http://purl.org/dc/elements/1.1/\" xmlns:rdf=\"http://www.w3.org/1999/02/22-rdf-syntax-ns#\">\n   <cc:Work>\n    <dc:type rdf:resource=\"http://purl.org/dc/dcmitype/StillImage\"/>\n    <dc:date>2021-06-11T23:07:38.187408</dc:date>\n    <dc:format>image/svg+xml</dc:format>\n    <dc:creator>\n     <cc:Agent>\n      <dc:title>Matplotlib v3.4.2, https://matplotlib.org/</dc:title>\n     </cc:Agent>\n    </dc:creator>\n   </cc:Work>\n  </rdf:RDF>\n </metadata>\n <defs>\n  <style type=\"text/css\">*{stroke-linecap:butt;stroke-linejoin:round;}</style>\n </defs>\n <g id=\"figure_1\">\n  <g id=\"patch_1\">\n   <path d=\"M 0 262.19625 \nL 395.328125 262.19625 \nL 395.328125 0 \nL 0 0 \nz\n\" style=\"fill:none;\"/>\n  </g>\n  <g id=\"axes_1\">\n   <g id=\"patch_2\">\n    <path d=\"M 53.328125 224.64 \nL 388.128125 224.64 \nL 388.128125 7.2 \nL 53.328125 7.2 \nz\n\" style=\"fill:#ffffff;\"/>\n   </g>\n   <g id=\"matplotlib.axis_1\">\n    <g id=\"xtick_1\">\n     <g id=\"line2d_1\">\n      <defs>\n       <path d=\"M 0 0 \nL 0 3.5 \n\" id=\"m2cac73fdb2\" style=\"stroke:#000000;stroke-width:0.8;\"/>\n      </defs>\n      <g>\n       <use style=\"stroke:#000000;stroke-width:0.8;\" x=\"68.546307\" xlink:href=\"#m2cac73fdb2\" y=\"224.64\"/>\n      </g>\n     </g>\n     <g id=\"text_1\">\n      <!-- 0 -->\n      <g transform=\"translate(65.365057 239.238437)scale(0.1 -0.1)\">\n       <defs>\n        <path d=\"M 2034 4250 \nQ 1547 4250 1301 3770 \nQ 1056 3291 1056 2328 \nQ 1056 1369 1301 889 \nQ 1547 409 2034 409 \nQ 2525 409 2770 889 \nQ 3016 1369 3016 2328 \nQ 3016 3291 2770 3770 \nQ 2525 4250 2034 4250 \nz\nM 2034 4750 \nQ 2819 4750 3233 4129 \nQ 3647 3509 3647 2328 \nQ 3647 1150 3233 529 \nQ 2819 -91 2034 -91 \nQ 1250 -91 836 529 \nQ 422 1150 422 2328 \nQ 422 3509 836 4129 \nQ 1250 4750 2034 4750 \nz\n\" id=\"DejaVuSans-30\" transform=\"scale(0.015625)\"/>\n       </defs>\n       <use xlink:href=\"#DejaVuSans-30\"/>\n      </g>\n     </g>\n    </g>\n    <g id=\"xtick_2\">\n     <g id=\"line2d_2\">\n      <g>\n       <use style=\"stroke:#000000;stroke-width:0.8;\" x=\"130.03391\" xlink:href=\"#m2cac73fdb2\" y=\"224.64\"/>\n      </g>\n     </g>\n     <g id=\"text_2\">\n      <!-- 20 -->\n      <g transform=\"translate(123.67141 239.238437)scale(0.1 -0.1)\">\n       <defs>\n        <path d=\"M 1228 531 \nL 3431 531 \nL 3431 0 \nL 469 0 \nL 469 531 \nQ 828 903 1448 1529 \nQ 2069 2156 2228 2338 \nQ 2531 2678 2651 2914 \nQ 2772 3150 2772 3378 \nQ 2772 3750 2511 3984 \nQ 2250 4219 1831 4219 \nQ 1534 4219 1204 4116 \nQ 875 4013 500 3803 \nL 500 4441 \nQ 881 4594 1212 4672 \nQ 1544 4750 1819 4750 \nQ 2544 4750 2975 4387 \nQ 3406 4025 3406 3419 \nQ 3406 3131 3298 2873 \nQ 3191 2616 2906 2266 \nQ 2828 2175 2409 1742 \nQ 1991 1309 1228 531 \nz\n\" id=\"DejaVuSans-32\" transform=\"scale(0.015625)\"/>\n       </defs>\n       <use xlink:href=\"#DejaVuSans-32\"/>\n       <use x=\"63.623047\" xlink:href=\"#DejaVuSans-30\"/>\n      </g>\n     </g>\n    </g>\n    <g id=\"xtick_3\">\n     <g id=\"line2d_3\">\n      <g>\n       <use style=\"stroke:#000000;stroke-width:0.8;\" x=\"191.521513\" xlink:href=\"#m2cac73fdb2\" y=\"224.64\"/>\n      </g>\n     </g>\n     <g id=\"text_3\">\n      <!-- 40 -->\n      <g transform=\"translate(185.159013 239.238437)scale(0.1 -0.1)\">\n       <defs>\n        <path d=\"M 2419 4116 \nL 825 1625 \nL 2419 1625 \nL 2419 4116 \nz\nM 2253 4666 \nL 3047 4666 \nL 3047 1625 \nL 3713 1625 \nL 3713 1100 \nL 3047 1100 \nL 3047 0 \nL 2419 0 \nL 2419 1100 \nL 313 1100 \nL 313 1709 \nL 2253 4666 \nz\n\" id=\"DejaVuSans-34\" transform=\"scale(0.015625)\"/>\n       </defs>\n       <use xlink:href=\"#DejaVuSans-34\"/>\n       <use x=\"63.623047\" xlink:href=\"#DejaVuSans-30\"/>\n      </g>\n     </g>\n    </g>\n    <g id=\"xtick_4\">\n     <g id=\"line2d_4\">\n      <g>\n       <use style=\"stroke:#000000;stroke-width:0.8;\" x=\"253.009117\" xlink:href=\"#m2cac73fdb2\" y=\"224.64\"/>\n      </g>\n     </g>\n     <g id=\"text_4\">\n      <!-- 60 -->\n      <g transform=\"translate(246.646617 239.238437)scale(0.1 -0.1)\">\n       <defs>\n        <path d=\"M 2113 2584 \nQ 1688 2584 1439 2293 \nQ 1191 2003 1191 1497 \nQ 1191 994 1439 701 \nQ 1688 409 2113 409 \nQ 2538 409 2786 701 \nQ 3034 994 3034 1497 \nQ 3034 2003 2786 2293 \nQ 2538 2584 2113 2584 \nz\nM 3366 4563 \nL 3366 3988 \nQ 3128 4100 2886 4159 \nQ 2644 4219 2406 4219 \nQ 1781 4219 1451 3797 \nQ 1122 3375 1075 2522 \nQ 1259 2794 1537 2939 \nQ 1816 3084 2150 3084 \nQ 2853 3084 3261 2657 \nQ 3669 2231 3669 1497 \nQ 3669 778 3244 343 \nQ 2819 -91 2113 -91 \nQ 1303 -91 875 529 \nQ 447 1150 447 2328 \nQ 447 3434 972 4092 \nQ 1497 4750 2381 4750 \nQ 2619 4750 2861 4703 \nQ 3103 4656 3366 4563 \nz\n\" id=\"DejaVuSans-36\" transform=\"scale(0.015625)\"/>\n       </defs>\n       <use xlink:href=\"#DejaVuSans-36\"/>\n       <use x=\"63.623047\" xlink:href=\"#DejaVuSans-30\"/>\n      </g>\n     </g>\n    </g>\n    <g id=\"xtick_5\">\n     <g id=\"line2d_5\">\n      <g>\n       <use style=\"stroke:#000000;stroke-width:0.8;\" x=\"314.49672\" xlink:href=\"#m2cac73fdb2\" y=\"224.64\"/>\n      </g>\n     </g>\n     <g id=\"text_5\">\n      <!-- 80 -->\n      <g transform=\"translate(308.13422 239.238437)scale(0.1 -0.1)\">\n       <defs>\n        <path d=\"M 2034 2216 \nQ 1584 2216 1326 1975 \nQ 1069 1734 1069 1313 \nQ 1069 891 1326 650 \nQ 1584 409 2034 409 \nQ 2484 409 2743 651 \nQ 3003 894 3003 1313 \nQ 3003 1734 2745 1975 \nQ 2488 2216 2034 2216 \nz\nM 1403 2484 \nQ 997 2584 770 2862 \nQ 544 3141 544 3541 \nQ 544 4100 942 4425 \nQ 1341 4750 2034 4750 \nQ 2731 4750 3128 4425 \nQ 3525 4100 3525 3541 \nQ 3525 3141 3298 2862 \nQ 3072 2584 2669 2484 \nQ 3125 2378 3379 2068 \nQ 3634 1759 3634 1313 \nQ 3634 634 3220 271 \nQ 2806 -91 2034 -91 \nQ 1263 -91 848 271 \nQ 434 634 434 1313 \nQ 434 1759 690 2068 \nQ 947 2378 1403 2484 \nz\nM 1172 3481 \nQ 1172 3119 1398 2916 \nQ 1625 2713 2034 2713 \nQ 2441 2713 2670 2916 \nQ 2900 3119 2900 3481 \nQ 2900 3844 2670 4047 \nQ 2441 4250 2034 4250 \nQ 1625 4250 1398 4047 \nQ 1172 3844 1172 3481 \nz\n\" id=\"DejaVuSans-38\" transform=\"scale(0.015625)\"/>\n       </defs>\n       <use xlink:href=\"#DejaVuSans-38\"/>\n       <use x=\"63.623047\" xlink:href=\"#DejaVuSans-30\"/>\n      </g>\n     </g>\n    </g>\n    <g id=\"xtick_6\">\n     <g id=\"line2d_6\">\n      <g>\n       <use style=\"stroke:#000000;stroke-width:0.8;\" x=\"375.984323\" xlink:href=\"#m2cac73fdb2\" y=\"224.64\"/>\n      </g>\n     </g>\n     <g id=\"text_6\">\n      <!-- 100 -->\n      <g transform=\"translate(366.440573 239.238437)scale(0.1 -0.1)\">\n       <defs>\n        <path d=\"M 794 531 \nL 1825 531 \nL 1825 4091 \nL 703 3866 \nL 703 4441 \nL 1819 4666 \nL 2450 4666 \nL 2450 531 \nL 3481 531 \nL 3481 0 \nL 794 0 \nL 794 531 \nz\n\" id=\"DejaVuSans-31\" transform=\"scale(0.015625)\"/>\n       </defs>\n       <use xlink:href=\"#DejaVuSans-31\"/>\n       <use x=\"63.623047\" xlink:href=\"#DejaVuSans-30\"/>\n       <use x=\"127.246094\" xlink:href=\"#DejaVuSans-30\"/>\n      </g>\n     </g>\n    </g>\n    <g id=\"text_7\">\n     <!-- Sparsity -->\n     <g transform=\"translate(200.346875 252.916562)scale(0.1 -0.1)\">\n      <defs>\n       <path d=\"M 3425 4513 \nL 3425 3897 \nQ 3066 4069 2747 4153 \nQ 2428 4238 2131 4238 \nQ 1616 4238 1336 4038 \nQ 1056 3838 1056 3469 \nQ 1056 3159 1242 3001 \nQ 1428 2844 1947 2747 \nL 2328 2669 \nQ 3034 2534 3370 2195 \nQ 3706 1856 3706 1288 \nQ 3706 609 3251 259 \nQ 2797 -91 1919 -91 \nQ 1588 -91 1214 -16 \nQ 841 59 441 206 \nL 441 856 \nQ 825 641 1194 531 \nQ 1563 422 1919 422 \nQ 2459 422 2753 634 \nQ 3047 847 3047 1241 \nQ 3047 1584 2836 1778 \nQ 2625 1972 2144 2069 \nL 1759 2144 \nQ 1053 2284 737 2584 \nQ 422 2884 422 3419 \nQ 422 4038 858 4394 \nQ 1294 4750 2059 4750 \nQ 2388 4750 2728 4690 \nQ 3069 4631 3425 4513 \nz\n\" id=\"DejaVuSans-53\" transform=\"scale(0.015625)\"/>\n       <path d=\"M 1159 525 \nL 1159 -1331 \nL 581 -1331 \nL 581 3500 \nL 1159 3500 \nL 1159 2969 \nQ 1341 3281 1617 3432 \nQ 1894 3584 2278 3584 \nQ 2916 3584 3314 3078 \nQ 3713 2572 3713 1747 \nQ 3713 922 3314 415 \nQ 2916 -91 2278 -91 \nQ 1894 -91 1617 61 \nQ 1341 213 1159 525 \nz\nM 3116 1747 \nQ 3116 2381 2855 2742 \nQ 2594 3103 2138 3103 \nQ 1681 3103 1420 2742 \nQ 1159 2381 1159 1747 \nQ 1159 1113 1420 752 \nQ 1681 391 2138 391 \nQ 2594 391 2855 752 \nQ 3116 1113 3116 1747 \nz\n\" id=\"DejaVuSans-70\" transform=\"scale(0.015625)\"/>\n       <path d=\"M 2194 1759 \nQ 1497 1759 1228 1600 \nQ 959 1441 959 1056 \nQ 959 750 1161 570 \nQ 1363 391 1709 391 \nQ 2188 391 2477 730 \nQ 2766 1069 2766 1631 \nL 2766 1759 \nL 2194 1759 \nz\nM 3341 1997 \nL 3341 0 \nL 2766 0 \nL 2766 531 \nQ 2569 213 2275 61 \nQ 1981 -91 1556 -91 \nQ 1019 -91 701 211 \nQ 384 513 384 1019 \nQ 384 1609 779 1909 \nQ 1175 2209 1959 2209 \nL 2766 2209 \nL 2766 2266 \nQ 2766 2663 2505 2880 \nQ 2244 3097 1772 3097 \nQ 1472 3097 1187 3025 \nQ 903 2953 641 2809 \nL 641 3341 \nQ 956 3463 1253 3523 \nQ 1550 3584 1831 3584 \nQ 2591 3584 2966 3190 \nQ 3341 2797 3341 1997 \nz\n\" id=\"DejaVuSans-61\" transform=\"scale(0.015625)\"/>\n       <path d=\"M 2631 2963 \nQ 2534 3019 2420 3045 \nQ 2306 3072 2169 3072 \nQ 1681 3072 1420 2755 \nQ 1159 2438 1159 1844 \nL 1159 0 \nL 581 0 \nL 581 3500 \nL 1159 3500 \nL 1159 2956 \nQ 1341 3275 1631 3429 \nQ 1922 3584 2338 3584 \nQ 2397 3584 2469 3576 \nQ 2541 3569 2628 3553 \nL 2631 2963 \nz\n\" id=\"DejaVuSans-72\" transform=\"scale(0.015625)\"/>\n       <path d=\"M 2834 3397 \nL 2834 2853 \nQ 2591 2978 2328 3040 \nQ 2066 3103 1784 3103 \nQ 1356 3103 1142 2972 \nQ 928 2841 928 2578 \nQ 928 2378 1081 2264 \nQ 1234 2150 1697 2047 \nL 1894 2003 \nQ 2506 1872 2764 1633 \nQ 3022 1394 3022 966 \nQ 3022 478 2636 193 \nQ 2250 -91 1575 -91 \nQ 1294 -91 989 -36 \nQ 684 19 347 128 \nL 347 722 \nQ 666 556 975 473 \nQ 1284 391 1588 391 \nQ 1994 391 2212 530 \nQ 2431 669 2431 922 \nQ 2431 1156 2273 1281 \nQ 2116 1406 1581 1522 \nL 1381 1569 \nQ 847 1681 609 1914 \nQ 372 2147 372 2553 \nQ 372 3047 722 3315 \nQ 1072 3584 1716 3584 \nQ 2034 3584 2315 3537 \nQ 2597 3491 2834 3397 \nz\n\" id=\"DejaVuSans-73\" transform=\"scale(0.015625)\"/>\n       <path d=\"M 603 3500 \nL 1178 3500 \nL 1178 0 \nL 603 0 \nL 603 3500 \nz\nM 603 4863 \nL 1178 4863 \nL 1178 4134 \nL 603 4134 \nL 603 4863 \nz\n\" id=\"DejaVuSans-69\" transform=\"scale(0.015625)\"/>\n       <path d=\"M 1172 4494 \nL 1172 3500 \nL 2356 3500 \nL 2356 3053 \nL 1172 3053 \nL 1172 1153 \nQ 1172 725 1289 603 \nQ 1406 481 1766 481 \nL 2356 481 \nL 2356 0 \nL 1766 0 \nQ 1100 0 847 248 \nQ 594 497 594 1153 \nL 594 3053 \nL 172 3053 \nL 172 3500 \nL 594 3500 \nL 594 4494 \nL 1172 4494 \nz\n\" id=\"DejaVuSans-74\" transform=\"scale(0.015625)\"/>\n       <path d=\"M 2059 -325 \nQ 1816 -950 1584 -1140 \nQ 1353 -1331 966 -1331 \nL 506 -1331 \nL 506 -850 \nL 844 -850 \nQ 1081 -850 1212 -737 \nQ 1344 -625 1503 -206 \nL 1606 56 \nL 191 3500 \nL 800 3500 \nL 1894 763 \nL 2988 3500 \nL 3597 3500 \nL 2059 -325 \nz\n\" id=\"DejaVuSans-79\" transform=\"scale(0.015625)\"/>\n      </defs>\n      <use xlink:href=\"#DejaVuSans-53\"/>\n      <use x=\"63.476562\" xlink:href=\"#DejaVuSans-70\"/>\n      <use x=\"126.953125\" xlink:href=\"#DejaVuSans-61\"/>\n      <use x=\"188.232422\" xlink:href=\"#DejaVuSans-72\"/>\n      <use x=\"229.345703\" xlink:href=\"#DejaVuSans-73\"/>\n      <use x=\"281.445312\" xlink:href=\"#DejaVuSans-69\"/>\n      <use x=\"309.228516\" xlink:href=\"#DejaVuSans-74\"/>\n      <use x=\"348.4375\" xlink:href=\"#DejaVuSans-79\"/>\n     </g>\n    </g>\n   </g>\n   <g id=\"matplotlib.axis_2\">\n    <g id=\"ytick_1\">\n     <g id=\"line2d_7\">\n      <defs>\n       <path d=\"M 0 0 \nL -3.5 0 \n\" id=\"m849a36417e\" style=\"stroke:#000000;stroke-width:0.8;\"/>\n      </defs>\n      <g>\n       <use style=\"stroke:#000000;stroke-width:0.8;\" x=\"53.328125\" xlink:href=\"#m849a36417e\" y=\"214.756364\"/>\n      </g>\n     </g>\n     <g id=\"text_8\">\n      <!-- 0 -->\n      <g transform=\"translate(39.965625 218.555582)scale(0.1 -0.1)\">\n       <use xlink:href=\"#DejaVuSans-30\"/>\n      </g>\n     </g>\n    </g>\n    <g id=\"ytick_2\">\n     <g id=\"line2d_8\">\n      <g>\n       <use style=\"stroke:#000000;stroke-width:0.8;\" x=\"53.328125\" xlink:href=\"#m849a36417e\" y=\"168.223896\"/>\n      </g>\n     </g>\n     <g id=\"text_9\">\n      <!-- 500 -->\n      <g transform=\"translate(27.240625 172.023114)scale(0.1 -0.1)\">\n       <defs>\n        <path d=\"M 691 4666 \nL 3169 4666 \nL 3169 4134 \nL 1269 4134 \nL 1269 2991 \nQ 1406 3038 1543 3061 \nQ 1681 3084 1819 3084 \nQ 2600 3084 3056 2656 \nQ 3513 2228 3513 1497 \nQ 3513 744 3044 326 \nQ 2575 -91 1722 -91 \nQ 1428 -91 1123 -41 \nQ 819 9 494 109 \nL 494 744 \nQ 775 591 1075 516 \nQ 1375 441 1709 441 \nQ 2250 441 2565 725 \nQ 2881 1009 2881 1497 \nQ 2881 1984 2565 2268 \nQ 2250 2553 1709 2553 \nQ 1456 2553 1204 2497 \nQ 953 2441 691 2322 \nL 691 4666 \nz\n\" id=\"DejaVuSans-35\" transform=\"scale(0.015625)\"/>\n       </defs>\n       <use xlink:href=\"#DejaVuSans-35\"/>\n       <use x=\"63.623047\" xlink:href=\"#DejaVuSans-30\"/>\n       <use x=\"127.246094\" xlink:href=\"#DejaVuSans-30\"/>\n      </g>\n     </g>\n    </g>\n    <g id=\"ytick_3\">\n     <g id=\"line2d_9\">\n      <g>\n       <use style=\"stroke:#000000;stroke-width:0.8;\" x=\"53.328125\" xlink:href=\"#m849a36417e\" y=\"121.691428\"/>\n      </g>\n     </g>\n     <g id=\"text_10\">\n      <!-- 1000 -->\n      <g transform=\"translate(20.878125 125.490646)scale(0.1 -0.1)\">\n       <use xlink:href=\"#DejaVuSans-31\"/>\n       <use x=\"63.623047\" xlink:href=\"#DejaVuSans-30\"/>\n       <use x=\"127.246094\" xlink:href=\"#DejaVuSans-30\"/>\n       <use x=\"190.869141\" xlink:href=\"#DejaVuSans-30\"/>\n      </g>\n     </g>\n    </g>\n    <g id=\"ytick_4\">\n     <g id=\"line2d_10\">\n      <g>\n       <use style=\"stroke:#000000;stroke-width:0.8;\" x=\"53.328125\" xlink:href=\"#m849a36417e\" y=\"75.15896\"/>\n      </g>\n     </g>\n     <g id=\"text_11\">\n      <!-- 1500 -->\n      <g transform=\"translate(20.878125 78.958179)scale(0.1 -0.1)\">\n       <use xlink:href=\"#DejaVuSans-31\"/>\n       <use x=\"63.623047\" xlink:href=\"#DejaVuSans-35\"/>\n       <use x=\"127.246094\" xlink:href=\"#DejaVuSans-30\"/>\n       <use x=\"190.869141\" xlink:href=\"#DejaVuSans-30\"/>\n      </g>\n     </g>\n    </g>\n    <g id=\"ytick_5\">\n     <g id=\"line2d_11\">\n      <g>\n       <use style=\"stroke:#000000;stroke-width:0.8;\" x=\"53.328125\" xlink:href=\"#m849a36417e\" y=\"28.626492\"/>\n      </g>\n     </g>\n     <g id=\"text_12\">\n      <!-- 2000 -->\n      <g transform=\"translate(20.878125 32.425711)scale(0.1 -0.1)\">\n       <use xlink:href=\"#DejaVuSans-32\"/>\n       <use x=\"63.623047\" xlink:href=\"#DejaVuSans-30\"/>\n       <use x=\"127.246094\" xlink:href=\"#DejaVuSans-30\"/>\n       <use x=\"190.869141\" xlink:href=\"#DejaVuSans-30\"/>\n      </g>\n     </g>\n    </g>\n    <g id=\"text_13\">\n     <!-- Explained variance -->\n     <g transform=\"translate(14.798438 163.590312)rotate(-90)scale(0.1 -0.1)\">\n      <defs>\n       <path d=\"M 628 4666 \nL 3578 4666 \nL 3578 4134 \nL 1259 4134 \nL 1259 2753 \nL 3481 2753 \nL 3481 2222 \nL 1259 2222 \nL 1259 531 \nL 3634 531 \nL 3634 0 \nL 628 0 \nL 628 4666 \nz\n\" id=\"DejaVuSans-45\" transform=\"scale(0.015625)\"/>\n       <path d=\"M 3513 3500 \nL 2247 1797 \nL 3578 0 \nL 2900 0 \nL 1881 1375 \nL 863 0 \nL 184 0 \nL 1544 1831 \nL 300 3500 \nL 978 3500 \nL 1906 2253 \nL 2834 3500 \nL 3513 3500 \nz\n\" id=\"DejaVuSans-78\" transform=\"scale(0.015625)\"/>\n       <path d=\"M 603 4863 \nL 1178 4863 \nL 1178 0 \nL 603 0 \nL 603 4863 \nz\n\" id=\"DejaVuSans-6c\" transform=\"scale(0.015625)\"/>\n       <path d=\"M 3513 2113 \nL 3513 0 \nL 2938 0 \nL 2938 2094 \nQ 2938 2591 2744 2837 \nQ 2550 3084 2163 3084 \nQ 1697 3084 1428 2787 \nQ 1159 2491 1159 1978 \nL 1159 0 \nL 581 0 \nL 581 3500 \nL 1159 3500 \nL 1159 2956 \nQ 1366 3272 1645 3428 \nQ 1925 3584 2291 3584 \nQ 2894 3584 3203 3211 \nQ 3513 2838 3513 2113 \nz\n\" id=\"DejaVuSans-6e\" transform=\"scale(0.015625)\"/>\n       <path d=\"M 3597 1894 \nL 3597 1613 \nL 953 1613 \nQ 991 1019 1311 708 \nQ 1631 397 2203 397 \nQ 2534 397 2845 478 \nQ 3156 559 3463 722 \nL 3463 178 \nQ 3153 47 2828 -22 \nQ 2503 -91 2169 -91 \nQ 1331 -91 842 396 \nQ 353 884 353 1716 \nQ 353 2575 817 3079 \nQ 1281 3584 2069 3584 \nQ 2775 3584 3186 3129 \nQ 3597 2675 3597 1894 \nz\nM 3022 2063 \nQ 3016 2534 2758 2815 \nQ 2500 3097 2075 3097 \nQ 1594 3097 1305 2825 \nQ 1016 2553 972 2059 \nL 3022 2063 \nz\n\" id=\"DejaVuSans-65\" transform=\"scale(0.015625)\"/>\n       <path d=\"M 2906 2969 \nL 2906 4863 \nL 3481 4863 \nL 3481 0 \nL 2906 0 \nL 2906 525 \nQ 2725 213 2448 61 \nQ 2172 -91 1784 -91 \nQ 1150 -91 751 415 \nQ 353 922 353 1747 \nQ 353 2572 751 3078 \nQ 1150 3584 1784 3584 \nQ 2172 3584 2448 3432 \nQ 2725 3281 2906 2969 \nz\nM 947 1747 \nQ 947 1113 1208 752 \nQ 1469 391 1925 391 \nQ 2381 391 2643 752 \nQ 2906 1113 2906 1747 \nQ 2906 2381 2643 2742 \nQ 2381 3103 1925 3103 \nQ 1469 3103 1208 2742 \nQ 947 2381 947 1747 \nz\n\" id=\"DejaVuSans-64\" transform=\"scale(0.015625)\"/>\n       <path id=\"DejaVuSans-20\" transform=\"scale(0.015625)\"/>\n       <path d=\"M 191 3500 \nL 800 3500 \nL 1894 563 \nL 2988 3500 \nL 3597 3500 \nL 2284 0 \nL 1503 0 \nL 191 3500 \nz\n\" id=\"DejaVuSans-76\" transform=\"scale(0.015625)\"/>\n       <path d=\"M 3122 3366 \nL 3122 2828 \nQ 2878 2963 2633 3030 \nQ 2388 3097 2138 3097 \nQ 1578 3097 1268 2742 \nQ 959 2388 959 1747 \nQ 959 1106 1268 751 \nQ 1578 397 2138 397 \nQ 2388 397 2633 464 \nQ 2878 531 3122 666 \nL 3122 134 \nQ 2881 22 2623 -34 \nQ 2366 -91 2075 -91 \nQ 1284 -91 818 406 \nQ 353 903 353 1747 \nQ 353 2603 823 3093 \nQ 1294 3584 2113 3584 \nQ 2378 3584 2631 3529 \nQ 2884 3475 3122 3366 \nz\n\" id=\"DejaVuSans-63\" transform=\"scale(0.015625)\"/>\n      </defs>\n      <use xlink:href=\"#DejaVuSans-45\"/>\n      <use x=\"63.183594\" xlink:href=\"#DejaVuSans-78\"/>\n      <use x=\"122.363281\" xlink:href=\"#DejaVuSans-70\"/>\n      <use x=\"185.839844\" xlink:href=\"#DejaVuSans-6c\"/>\n      <use x=\"213.623047\" xlink:href=\"#DejaVuSans-61\"/>\n      <use x=\"274.902344\" xlink:href=\"#DejaVuSans-69\"/>\n      <use x=\"302.685547\" xlink:href=\"#DejaVuSans-6e\"/>\n      <use x=\"366.064453\" xlink:href=\"#DejaVuSans-65\"/>\n      <use x=\"427.587891\" xlink:href=\"#DejaVuSans-64\"/>\n      <use x=\"491.064453\" xlink:href=\"#DejaVuSans-20\"/>\n      <use x=\"522.851562\" xlink:href=\"#DejaVuSans-76\"/>\n      <use x=\"582.03125\" xlink:href=\"#DejaVuSans-61\"/>\n      <use x=\"643.310547\" xlink:href=\"#DejaVuSans-72\"/>\n      <use x=\"684.423828\" xlink:href=\"#DejaVuSans-69\"/>\n      <use x=\"712.207031\" xlink:href=\"#DejaVuSans-61\"/>\n      <use x=\"773.486328\" xlink:href=\"#DejaVuSans-6e\"/>\n      <use x=\"836.865234\" xlink:href=\"#DejaVuSans-63\"/>\n      <use x=\"891.845703\" xlink:href=\"#DejaVuSans-65\"/>\n     </g>\n    </g>\n   </g>\n   <g id=\"line2d_12\">\n    <path clip-path=\"url(#pd0a594b37d)\" d=\"M 68.546307 214.756364 \nL 77.769447 183.948702 \nL 86.992588 158.004249 \nL 99.290108 135.827096 \nL 108.513249 124.622623 \nL 120.81077 101.305059 \nL 130.03391 90.215417 \nL 139.257051 79.063507 \nL 151.554571 66.047 \nL 160.777712 58.561144 \nL 173.075232 49.644927 \nL 182.298373 43.324152 \nL 191.521513 37.423981 \nL 203.819034 31.347658 \nL 213.042175 28.446485 \nL 225.339695 25.87602 \nL 234.562836 24.529267 \nL 246.860356 23.006159 \nL 256.083497 21.92179 \nL 265.306637 20.87047 \nL 277.604158 19.629789 \nL 286.827299 18.843809 \nL 299.124819 18.060973 \nL 308.34796 17.767452 \nL 317.5711 17.535862 \nL 329.868621 17.322564 \nL 339.091761 17.207252 \nL 351.389282 17.120302 \nL 360.612423 17.096838 \nL 372.909943 17.083636 \n\" style=\"fill:none;stroke:#1f77b4;stroke-linecap:square;stroke-width:1.5;\"/>\n   </g>\n   <g id=\"line2d_13\">\n    <path clip-path=\"url(#pd0a594b37d)\" d=\"M 68.546307 49.644927 \nL 173.075232 49.644927 \n\" style=\"fill:none;stroke:#0000ff;stroke-dasharray:5.55,2.4;stroke-dashoffset:0;stroke-width:1.5;\"/>\n   </g>\n   <g id=\"line2d_14\">\n    <path clip-path=\"url(#pd0a594b37d)\" d=\"M 173.075232 214.756364 \nL 173.075232 49.644927 \n\" style=\"fill:none;stroke:#0000ff;stroke-dasharray:5.55,2.4;stroke-dashoffset:0;stroke-width:1.5;\"/>\n   </g>\n   <g id=\"line2d_15\">\n    <path clip-path=\"url(#pd0a594b37d)\" d=\"M 68.546307 31.347658 \nL 203.819034 31.347658 \n\" style=\"fill:none;stroke:#ff0000;stroke-dasharray:5.55,2.4;stroke-dashoffset:0;stroke-width:1.5;\"/>\n   </g>\n   <g id=\"line2d_16\">\n    <path clip-path=\"url(#pd0a594b37d)\" d=\"M 203.819034 214.756364 \nL 203.819034 31.347658 \n\" style=\"fill:none;stroke:#ff0000;stroke-dasharray:5.55,2.4;stroke-dashoffset:0;stroke-width:1.5;\"/>\n   </g>\n   <g id=\"line2d_17\">\n    <path clip-path=\"url(#pd0a594b37d)\" d=\"M 68.546307 17.083636 \nL 372.909943 17.083636 \n\" style=\"fill:none;stroke:#808080;stroke-dasharray:5.55,2.4;stroke-dashoffset:0;stroke-width:1.5;\"/>\n   </g>\n   <g id=\"patch_3\">\n    <path d=\"M 53.328125 224.64 \nL 53.328125 7.2 \n\" style=\"fill:none;stroke:#000000;stroke-linecap:square;stroke-linejoin:miter;stroke-width:0.8;\"/>\n   </g>\n   <g id=\"patch_4\">\n    <path d=\"M 388.128125 224.64 \nL 388.128125 7.2 \n\" style=\"fill:none;stroke:#000000;stroke-linecap:square;stroke-linejoin:miter;stroke-width:0.8;\"/>\n   </g>\n   <g id=\"patch_5\">\n    <path d=\"M 53.328125 224.64 \nL 388.128125 224.64 \n\" style=\"fill:none;stroke:#000000;stroke-linecap:square;stroke-linejoin:miter;stroke-width:0.8;\"/>\n   </g>\n   <g id=\"patch_6\">\n    <path d=\"M 53.328125 7.2 \nL 388.128125 7.2 \n\" style=\"fill:none;stroke:#000000;stroke-linecap:square;stroke-linejoin:miter;stroke-width:0.8;\"/>\n   </g>\n   <g id=\"text_14\">\n    <!-- 34 -->\n    <g transform=\"translate(173.075232 214.756364)scale(0.1 -0.1)\">\n     <defs>\n      <path d=\"M 2597 2516 \nQ 3050 2419 3304 2112 \nQ 3559 1806 3559 1356 \nQ 3559 666 3084 287 \nQ 2609 -91 1734 -91 \nQ 1441 -91 1130 -33 \nQ 819 25 488 141 \nL 488 750 \nQ 750 597 1062 519 \nQ 1375 441 1716 441 \nQ 2309 441 2620 675 \nQ 2931 909 2931 1356 \nQ 2931 1769 2642 2001 \nQ 2353 2234 1838 2234 \nL 1294 2234 \nL 1294 2753 \nL 1863 2753 \nQ 2328 2753 2575 2939 \nQ 2822 3125 2822 3475 \nQ 2822 3834 2567 4026 \nQ 2313 4219 1838 4219 \nQ 1578 4219 1281 4162 \nQ 984 4106 628 3988 \nL 628 4550 \nQ 988 4650 1302 4700 \nQ 1616 4750 1894 4750 \nQ 2613 4750 3031 4423 \nQ 3450 4097 3450 3541 \nQ 3450 3153 3228 2886 \nQ 3006 2619 2597 2516 \nz\n\" id=\"DejaVuSans-33\" transform=\"scale(0.015625)\"/>\n     </defs>\n     <use xlink:href=\"#DejaVuSans-33\"/>\n     <use x=\"63.623047\" xlink:href=\"#DejaVuSans-34\"/>\n    </g>\n   </g>\n   <g id=\"text_15\">\n    <!-- 80% -->\n    <g transform=\"translate(68.546307 49.644927)scale(0.1 -0.1)\">\n     <defs>\n      <path d=\"M 4653 2053 \nQ 4381 2053 4226 1822 \nQ 4072 1591 4072 1178 \nQ 4072 772 4226 539 \nQ 4381 306 4653 306 \nQ 4919 306 5073 539 \nQ 5228 772 5228 1178 \nQ 5228 1588 5073 1820 \nQ 4919 2053 4653 2053 \nz\nM 4653 2450 \nQ 5147 2450 5437 2106 \nQ 5728 1763 5728 1178 \nQ 5728 594 5436 251 \nQ 5144 -91 4653 -91 \nQ 4153 -91 3862 251 \nQ 3572 594 3572 1178 \nQ 3572 1766 3864 2108 \nQ 4156 2450 4653 2450 \nz\nM 1428 4353 \nQ 1159 4353 1004 4120 \nQ 850 3888 850 3481 \nQ 850 3069 1003 2837 \nQ 1156 2606 1428 2606 \nQ 1700 2606 1854 2837 \nQ 2009 3069 2009 3481 \nQ 2009 3884 1853 4118 \nQ 1697 4353 1428 4353 \nz\nM 4250 4750 \nL 4750 4750 \nL 1831 -91 \nL 1331 -91 \nL 4250 4750 \nz\nM 1428 4750 \nQ 1922 4750 2215 4408 \nQ 2509 4066 2509 3481 \nQ 2509 2891 2217 2550 \nQ 1925 2209 1428 2209 \nQ 931 2209 642 2551 \nQ 353 2894 353 3481 \nQ 353 4063 643 4406 \nQ 934 4750 1428 4750 \nz\n\" id=\"DejaVuSans-25\" transform=\"scale(0.015625)\"/>\n     </defs>\n     <use xlink:href=\"#DejaVuSans-38\"/>\n     <use x=\"63.623047\" xlink:href=\"#DejaVuSans-30\"/>\n     <use x=\"127.246094\" xlink:href=\"#DejaVuSans-25\"/>\n    </g>\n   </g>\n   <g id=\"text_16\">\n    <!-- 44 -->\n    <g transform=\"translate(203.819034 214.756364)scale(0.1 -0.1)\">\n     <use xlink:href=\"#DejaVuSans-34\"/>\n     <use x=\"63.623047\" xlink:href=\"#DejaVuSans-34\"/>\n    </g>\n   </g>\n   <g id=\"text_17\">\n    <!-- 90% -->\n    <g transform=\"translate(68.546307 31.347658)scale(0.1 -0.1)\">\n     <defs>\n      <path d=\"M 703 97 \nL 703 672 \nQ 941 559 1184 500 \nQ 1428 441 1663 441 \nQ 2288 441 2617 861 \nQ 2947 1281 2994 2138 \nQ 2813 1869 2534 1725 \nQ 2256 1581 1919 1581 \nQ 1219 1581 811 2004 \nQ 403 2428 403 3163 \nQ 403 3881 828 4315 \nQ 1253 4750 1959 4750 \nQ 2769 4750 3195 4129 \nQ 3622 3509 3622 2328 \nQ 3622 1225 3098 567 \nQ 2575 -91 1691 -91 \nQ 1453 -91 1209 -44 \nQ 966 3 703 97 \nz\nM 1959 2075 \nQ 2384 2075 2632 2365 \nQ 2881 2656 2881 3163 \nQ 2881 3666 2632 3958 \nQ 2384 4250 1959 4250 \nQ 1534 4250 1286 3958 \nQ 1038 3666 1038 3163 \nQ 1038 2656 1286 2365 \nQ 1534 2075 1959 2075 \nz\n\" id=\"DejaVuSans-39\" transform=\"scale(0.015625)\"/>\n     </defs>\n     <use xlink:href=\"#DejaVuSans-39\"/>\n     <use x=\"63.623047\" xlink:href=\"#DejaVuSans-30\"/>\n     <use x=\"127.246094\" xlink:href=\"#DejaVuSans-25\"/>\n    </g>\n   </g>\n   <g id=\"text_18\">\n    <!-- 100% -->\n    <g transform=\"translate(68.546307 17.083636)scale(0.1 -0.1)\">\n     <use xlink:href=\"#DejaVuSans-31\"/>\n     <use x=\"63.623047\" xlink:href=\"#DejaVuSans-30\"/>\n     <use x=\"127.246094\" xlink:href=\"#DejaVuSans-30\"/>\n     <use x=\"190.869141\" xlink:href=\"#DejaVuSans-25\"/>\n    </g>\n   </g>\n  </g>\n </g>\n <defs>\n  <clipPath id=\"pd0a594b37d\">\n   <rect height=\"217.44\" width=\"334.8\" x=\"53.328125\" y=\"7.2\"/>\n  </clipPath>\n </defs>\n</svg>\n",
      "image/png": "[encoded data removed]"
     },
     "metadata": {
      "needs_background": "light"
     }
    }
   ],
   "source": [
    "import matplotlib.pyplot as plt\n",
    "plt.plot(px, py)\n",
    "plt.xlabel('Sparsity')\n",
    "plt.ylabel('Explained variance')\n",
    "\n",
    "ind = np.where(py > 0.8 * py[num-1])[0][0]\n",
    "plt.plot([0, px[ind]], [py[ind], py[ind]], 'b--')\n",
    "plt.plot([px[ind], px[ind]], [0, py[ind]], 'b--')\n",
    "plt.text(px[ind], 0, str(px[ind]))\n",
    "plt.text(0, py[ind], '80%')\n",
    "\n",
    "ind = np.where(py > 0.9 * py[num-1])[0][0]\n",
    "plt.plot([0, px[ind]], [py[ind], py[ind]], 'r--')\n",
    "plt.plot([px[ind], px[ind]], [0, py[ind]], 'r--')\n",
    "plt.text(px[ind], 0, str(px[ind]))\n",
    "plt.text(0, py[ind], '90%')\n",
    "\n",
    "plt.plot([0, p], [py[num-1], py[num-1]], color='gray', linestyle='--')\n",
    "plt.text(0, py[num-1],'100%')\n",
    "\n",
    "plt.show()"
   ]
  },
  {
   "source": [
    "This result shows that using less than half of all 99 variables can be close to perfect. For example, if we choose sparsity 34, the used variables are:"
   ],
   "cell_type": "markdown",
   "metadata": {}
  },
  {
   "cell_type": "code",
   "execution_count": 38,
   "metadata": {},
   "outputs": [
    {
     "output_type": "stream",
     "name": "stdout",
     "text": [
      "non-zero position: \n [ 2  3 11 12 15 17 19 20 21 22 25 27 28 29 30 31 32 35 36 42 43 44 45 49\n 66 76 77 78 79 80 81 82 83 84]\n"
     ]
    }
   ],
   "source": [
    "model = abessPCA(support_size = range(34, 35))\n",
    "model.fit(X, is_normal = False)\n",
    "temp = np.nonzero(model.coef_)[0]\n",
    "print('non-zero position: \\n', temp)"
   ]
  },
  {
   "source": [
    "## Group abessPCA\n",
    "\n",
    "Our program can also from SPCA with group information. Here we suppose that variables in the same group address close to each other (if not, the data should be sorted first).\n",
    "\n",
    "Suppose that the data above have group information like:\n",
    "- Group 0: {the 1st, 2nd, ..., 10th variable};\n",
    "- Group 1: {the 11st, 12nd, ..., 20th variable};\n",
    "- ...\n",
    "- Group 9: {the 91st, 92nd, ..., 99th variable}.\n",
    "\n",
    "Denote different groups as different number:  "
   ],
   "cell_type": "markdown",
   "metadata": {}
  },
  {
   "cell_type": "code",
   "execution_count": 39,
   "metadata": {},
   "outputs": [
    {
     "output_type": "stream",
     "name": "stdout",
     "text": [
      "[0 0 0 0 0 0 0 0 0 0 1 1 1 1 1 1 1 1 1 1 2 2 2 2 2 2 2 2 2 2 3 3 3 3 3 3 3\n 3 3 3 4 4 4 4 4 4 4 4 4 4 5 5 5 5 5 5 5 5 5 5 6 6 6 6 6 6 6 6 6 6 7 7 7 7\n 7 7 7 7 7 7 8 8 8 8 8 8 8 8 8 8 9 9 9 9 9 9 9 9 9]\n"
     ]
    }
   ],
   "source": [
    "g_info = np.arange(10) \n",
    "g_info = g_info.repeat(10)\n",
    "g_info = g_info[0:99]\n",
    "\n",
    "print(g_info)"
   ]
  },
  {
   "source": [
    "And fit a group SPCA model with additional argument `group=g_info`:"
   ],
   "cell_type": "markdown",
   "metadata": {}
  },
  {
   "cell_type": "code",
   "execution_count": 40,
   "metadata": {},
   "outputs": [
    {
     "output_type": "execute_result",
     "data": {
      "text/plain": [
       "abessPCA(support_size=range(0, 5))"
      ]
     },
     "metadata": {},
     "execution_count": 40
    }
   ],
   "source": [
    "model = abessPCA(support_size=range(0, 5))\n",
    "model.fit(X, group = g_info, is_normal = False) "
   ]
  },
  {
   "source": [
    "The result comes to:"
   ],
   "cell_type": "markdown",
   "metadata": {}
  },
  {
   "cell_type": "code",
   "execution_count": 41,
   "metadata": {},
   "outputs": [
    {
     "output_type": "stream",
     "name": "stdout",
     "text": [
      "[ 0.          0.          0.          0.          0.          0.\n  0.          0.          0.          0.          0.00171271  0.2648612\n  0.23062673  0.12734873 -0.03739316  0.16081814 -0.08529476 -0.18186216\n -0.00585155  0.21902021  0.20114511  0.1853583   0.13682873  0.05973876\n  0.09974769  0.13851652 -0.02939782 -0.21621104 -0.16820857 -0.17753443\n  0.          0.          0.          0.          0.          0.\n  0.          0.          0.          0.          0.          0.\n  0.          0.          0.          0.          0.          0.\n  0.          0.          0.          0.          0.          0.\n  0.          0.          0.          0.          0.          0.\n  0.          0.          0.          0.          0.          0.\n  0.          0.          0.          0.         -0.0212061   0.08496932\n  0.09046897 -0.10846386 -0.07958145  0.0410962  -0.23518689 -0.11846002\n  0.22968491  0.23447547  0.23450492  0.23280996  0.22757745  0.26878584\n  0.23031387 -0.0260155   0.10562828 -0.01528056 -0.00906463 -0.00349266\n  0.          0.          0.          0.          0.          0.\n  0.          0.          0.        ]\nnon-zero group: \n [1 2 7 8]\nchosen sparsity:  4\n"
     ]
    }
   ],
   "source": [
    "print(model.coef_)\n",
    "\n",
    "temp = np.nonzero(model.coef_)[0]\n",
    "temp = np.unique(g_info[temp])\n",
    "\n",
    "print('non-zero group: \\n', temp)\n",
    "print('chosen sparsity: ', temp.size)\n",
    "\n"
   ]
  },
  {
   "source": [
    "Hence we can focus on variables in Group 1,2,7,8."
   ],
   "cell_type": "markdown",
   "metadata": {}
  }
 ]
}